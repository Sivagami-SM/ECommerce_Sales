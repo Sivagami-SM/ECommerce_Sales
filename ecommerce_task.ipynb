{
 "cells": [
  {
   "cell_type": "code",
   "execution_count": 167,
   "id": "b2beecf9",
   "metadata": {},
   "outputs": [],
   "source": [
    "#Install required libraries"
   ]
  },
  {
   "cell_type": "code",
   "execution_count": 37,
   "id": "3c7e75d2",
   "metadata": {},
   "outputs": [],
   "source": [
    "import pandas as pd\n",
    "import numpy as np\n",
    "import matplotlib.pyplot as plt\n",
    "import seaborn as sns"
   ]
  },
  {
   "cell_type": "code",
   "execution_count": 38,
   "id": "f1cfbf01",
   "metadata": {},
   "outputs": [],
   "source": [
    "#Loading the main datasets"
   ]
  },
  {
   "cell_type": "code",
   "execution_count": 39,
   "id": "e0dad5b2",
   "metadata": {},
   "outputs": [],
   "source": [
    "df_customers=pd.read_csv(\"C:/Users/Sivagami/Downloads/archive/olist_customers_dataset.csv\")\n",
    "df_orders=pd.read_csv(\"C:/Users/Sivagami/Downloads/archive/olist_orders_dataset.csv\")\n",
    "df_order_items=pd.read_csv(\"C:/Users/Sivagami/Downloads/archive/olist_order_items_dataset.csv\")\n",
    "df_sellers=pd.read_csv(\"C:/Users/Sivagami/Downloads/archive/olist_sellers_dataset.csv\")\n",
    "df_products=pd.read_csv(\"C:/Users/Sivagami/Downloads/archive/olist_products_dataset.csv\")\n",
    "df_reviews=pd.read_csv(\"C:/Users/Sivagami/Downloads/archive/olist_order_reviews_dataset.csv\")\n",
    "df_payments=pd.read_csv(\"C:/Users/Sivagami/Downloads/archive/olist_order_payments_dataset.csv\")"
   ]
  },
  {
   "cell_type": "code",
   "execution_count": 40,
   "id": "2097bda9",
   "metadata": {},
   "outputs": [
    {
     "data": {
      "text/html": [
       "<div>\n",
       "<style scoped>\n",
       "    .dataframe tbody tr th:only-of-type {\n",
       "        vertical-align: middle;\n",
       "    }\n",
       "\n",
       "    .dataframe tbody tr th {\n",
       "        vertical-align: top;\n",
       "    }\n",
       "\n",
       "    .dataframe thead th {\n",
       "        text-align: right;\n",
       "    }\n",
       "</style>\n",
       "<table border=\"1\" class=\"dataframe\">\n",
       "  <thead>\n",
       "    <tr style=\"text-align: right;\">\n",
       "      <th></th>\n",
       "      <th>order_id</th>\n",
       "      <th>customer_id</th>\n",
       "      <th>order_status</th>\n",
       "      <th>order_purchase_timestamp</th>\n",
       "      <th>order_approved_at</th>\n",
       "      <th>order_delivered_carrier_date</th>\n",
       "      <th>order_delivered_customer_date</th>\n",
       "      <th>order_estimated_delivery_date</th>\n",
       "    </tr>\n",
       "  </thead>\n",
       "  <tbody>\n",
       "    <tr>\n",
       "      <th>0</th>\n",
       "      <td>e481f51cbdc54678b7cc49136f2d6af7</td>\n",
       "      <td>9ef432eb6251297304e76186b10a928d</td>\n",
       "      <td>delivered</td>\n",
       "      <td>2017-10-02 10:56:33</td>\n",
       "      <td>2017-10-02 11:07:15</td>\n",
       "      <td>2017-10-04 19:55:00</td>\n",
       "      <td>2017-10-10 21:25:13</td>\n",
       "      <td>2017-10-18 00:00:00</td>\n",
       "    </tr>\n",
       "    <tr>\n",
       "      <th>1</th>\n",
       "      <td>53cdb2fc8bc7dce0b6741e2150273451</td>\n",
       "      <td>b0830fb4747a6c6d20dea0b8c802d7ef</td>\n",
       "      <td>delivered</td>\n",
       "      <td>2018-07-24 20:41:37</td>\n",
       "      <td>2018-07-26 03:24:27</td>\n",
       "      <td>2018-07-26 14:31:00</td>\n",
       "      <td>2018-08-07 15:27:45</td>\n",
       "      <td>2018-08-13 00:00:00</td>\n",
       "    </tr>\n",
       "    <tr>\n",
       "      <th>2</th>\n",
       "      <td>47770eb9100c2d0c44946d9cf07ec65d</td>\n",
       "      <td>41ce2a54c0b03bf3443c3d931a367089</td>\n",
       "      <td>delivered</td>\n",
       "      <td>2018-08-08 08:38:49</td>\n",
       "      <td>2018-08-08 08:55:23</td>\n",
       "      <td>2018-08-08 13:50:00</td>\n",
       "      <td>2018-08-17 18:06:29</td>\n",
       "      <td>2018-09-04 00:00:00</td>\n",
       "    </tr>\n",
       "    <tr>\n",
       "      <th>3</th>\n",
       "      <td>949d5b44dbf5de918fe9c16f97b45f8a</td>\n",
       "      <td>f88197465ea7920adcdbec7375364d82</td>\n",
       "      <td>delivered</td>\n",
       "      <td>2017-11-18 19:28:06</td>\n",
       "      <td>2017-11-18 19:45:59</td>\n",
       "      <td>2017-11-22 13:39:59</td>\n",
       "      <td>2017-12-02 00:28:42</td>\n",
       "      <td>2017-12-15 00:00:00</td>\n",
       "    </tr>\n",
       "    <tr>\n",
       "      <th>4</th>\n",
       "      <td>ad21c59c0840e6cb83a9ceb5573f8159</td>\n",
       "      <td>8ab97904e6daea8866dbdbc4fb7aad2c</td>\n",
       "      <td>delivered</td>\n",
       "      <td>2018-02-13 21:18:39</td>\n",
       "      <td>2018-02-13 22:20:29</td>\n",
       "      <td>2018-02-14 19:46:34</td>\n",
       "      <td>2018-02-16 18:17:02</td>\n",
       "      <td>2018-02-26 00:00:00</td>\n",
       "    </tr>\n",
       "  </tbody>\n",
       "</table>\n",
       "</div>"
      ],
      "text/plain": [
       "                           order_id                       customer_id  \\\n",
       "0  e481f51cbdc54678b7cc49136f2d6af7  9ef432eb6251297304e76186b10a928d   \n",
       "1  53cdb2fc8bc7dce0b6741e2150273451  b0830fb4747a6c6d20dea0b8c802d7ef   \n",
       "2  47770eb9100c2d0c44946d9cf07ec65d  41ce2a54c0b03bf3443c3d931a367089   \n",
       "3  949d5b44dbf5de918fe9c16f97b45f8a  f88197465ea7920adcdbec7375364d82   \n",
       "4  ad21c59c0840e6cb83a9ceb5573f8159  8ab97904e6daea8866dbdbc4fb7aad2c   \n",
       "\n",
       "  order_status order_purchase_timestamp    order_approved_at  \\\n",
       "0    delivered      2017-10-02 10:56:33  2017-10-02 11:07:15   \n",
       "1    delivered      2018-07-24 20:41:37  2018-07-26 03:24:27   \n",
       "2    delivered      2018-08-08 08:38:49  2018-08-08 08:55:23   \n",
       "3    delivered      2017-11-18 19:28:06  2017-11-18 19:45:59   \n",
       "4    delivered      2018-02-13 21:18:39  2018-02-13 22:20:29   \n",
       "\n",
       "  order_delivered_carrier_date order_delivered_customer_date  \\\n",
       "0          2017-10-04 19:55:00           2017-10-10 21:25:13   \n",
       "1          2018-07-26 14:31:00           2018-08-07 15:27:45   \n",
       "2          2018-08-08 13:50:00           2018-08-17 18:06:29   \n",
       "3          2017-11-22 13:39:59           2017-12-02 00:28:42   \n",
       "4          2018-02-14 19:46:34           2018-02-16 18:17:02   \n",
       "\n",
       "  order_estimated_delivery_date  \n",
       "0           2017-10-18 00:00:00  \n",
       "1           2018-08-13 00:00:00  \n",
       "2           2018-09-04 00:00:00  \n",
       "3           2017-12-15 00:00:00  \n",
       "4           2018-02-26 00:00:00  "
      ]
     },
     "execution_count": 40,
     "metadata": {},
     "output_type": "execute_result"
    }
   ],
   "source": [
    "df_orders.head() #displays the first 5rows in the orders dataset"
   ]
  },
  {
   "cell_type": "code",
   "execution_count": 41,
   "id": "5c91c74c",
   "metadata": {},
   "outputs": [
    {
     "data": {
      "text/plain": [
       "(99441, 8)"
      ]
     },
     "execution_count": 41,
     "metadata": {},
     "output_type": "execute_result"
    }
   ],
   "source": [
    "df_orders.shape #shows the number of rows and columns in the orders table"
   ]
  },
  {
   "cell_type": "markdown",
   "id": "3070ac4d",
   "metadata": {},
   "source": [
    "# Data Cleaning & Preprocessing"
   ]
  },
  {
   "cell_type": "code",
   "execution_count": 42,
   "id": "ef56e3e7",
   "metadata": {},
   "outputs": [],
   "source": [
    "#checking for missing values "
   ]
  },
  {
   "cell_type": "code",
   "execution_count": 43,
   "id": "06b57c0b",
   "metadata": {},
   "outputs": [
    {
     "name": "stdout",
     "output_type": "stream",
     "text": [
      "Missing values in the orders table are:\n",
      "order_id                            0\n",
      "customer_id                         0\n",
      "order_status                        0\n",
      "order_purchase_timestamp            0\n",
      "order_approved_at                 160\n",
      "order_delivered_carrier_date     1783\n",
      "order_delivered_customer_date    2965\n",
      "order_estimated_delivery_date       0\n",
      "dtype: int64\n"
     ]
    }
   ],
   "source": [
    "print(\"Missing values in the orders table are:\")\n",
    "print(df_orders.isnull().sum()) #checking for missing values in orders dataset"
   ]
  },
  {
   "cell_type": "code",
   "execution_count": 44,
   "id": "58574025",
   "metadata": {},
   "outputs": [],
   "source": [
    "#Filling the missing values"
   ]
  },
  {
   "cell_type": "code",
   "execution_count": 45,
   "id": "3212c2da",
   "metadata": {},
   "outputs": [],
   "source": [
    "df_orders['order_approved_at'].fillna('Unknown',inplace=True)\n",
    "df_orders['order_delivered_carrier_date'].fillna('Unknown',inplace=True)\n",
    "df_orders['order_delivered_customer_date'].fillna('Unknown',inplace=True)"
   ]
  },
  {
   "cell_type": "code",
   "execution_count": 46,
   "id": "b3376995",
   "metadata": {},
   "outputs": [],
   "source": [
    "#checking after filling the values as \"Unknown\""
   ]
  },
  {
   "cell_type": "code",
   "execution_count": 47,
   "id": "cbe64741",
   "metadata": {},
   "outputs": [
    {
     "name": "stdout",
     "output_type": "stream",
     "text": [
      "Checking after filling the missing values:\n",
      "order_id                         0\n",
      "customer_id                      0\n",
      "order_status                     0\n",
      "order_purchase_timestamp         0\n",
      "order_approved_at                0\n",
      "order_delivered_carrier_date     0\n",
      "order_delivered_customer_date    0\n",
      "order_estimated_delivery_date    0\n",
      "dtype: int64\n"
     ]
    }
   ],
   "source": [
    "print(\"Checking after filling the missing values:\")\n",
    "print(df_orders.isnull().sum())"
   ]
  },
  {
   "cell_type": "code",
   "execution_count": 49,
   "id": "b9122ecd",
   "metadata": {},
   "outputs": [
    {
     "name": "stdout",
     "output_type": "stream",
     "text": [
      "After datatype conversion:\n",
      "order_id                                 object\n",
      "customer_id                              object\n",
      "order_status                             object\n",
      "order_purchase_timestamp         datetime64[ns]\n",
      "order_approved_at                        object\n",
      "order_delivered_carrier_date             object\n",
      "order_delivered_customer_date            object\n",
      "order_estimated_delivery_date            object\n",
      "dtype: object\n"
     ]
    }
   ],
   "source": [
    "print(df_orders.dtypes) #Checking datatypes"
   ]
  },
  {
   "cell_type": "code",
   "execution_count": 19,
   "id": "fc87761b",
   "metadata": {},
   "outputs": [],
   "source": [
    "#checking for duplicates"
   ]
  },
  {
   "cell_type": "code",
   "execution_count": 20,
   "id": "8040f9bd",
   "metadata": {},
   "outputs": [
    {
     "name": "stdout",
     "output_type": "stream",
     "text": [
      "Number of duplicate rows: 0\n"
     ]
    }
   ],
   "source": [
    "duplicate_count=df_customers.duplicated().sum() #checking for duplicate values in customers table\n",
    "print(\"Number of duplicate rows:\",duplicate_count)"
   ]
  },
  {
   "cell_type": "code",
   "execution_count": 21,
   "id": "f61251f2",
   "metadata": {},
   "outputs": [],
   "source": [
    "#Merging tables"
   ]
  },
  {
   "cell_type": "code",
   "execution_count": 22,
   "id": "e9ac453a",
   "metadata": {},
   "outputs": [],
   "source": [
    "#Merged orders,order_items,customers,sellers,products table\n",
    "df_merged=df_orders.merge(df_order_items, on='order_id',how='left')\n",
    "df_merged=df_merged.merge(df_customers, on='customer_id',how='left')\n",
    "df_merged=df_merged.merge(df_sellers, on='seller_id',how='left')\n",
    "df_merged=df_merged.merge(df_products, on='product_id',how='left')"
   ]
  },
  {
   "cell_type": "code",
   "execution_count": 23,
   "id": "1dd13323",
   "metadata": {},
   "outputs": [
    {
     "name": "stdout",
     "output_type": "stream",
     "text": [
      "                           order_id                       customer_id  \\\n",
      "0  e481f51cbdc54678b7cc49136f2d6af7  9ef432eb6251297304e76186b10a928d   \n",
      "1  53cdb2fc8bc7dce0b6741e2150273451  b0830fb4747a6c6d20dea0b8c802d7ef   \n",
      "2  47770eb9100c2d0c44946d9cf07ec65d  41ce2a54c0b03bf3443c3d931a367089   \n",
      "3  949d5b44dbf5de918fe9c16f97b45f8a  f88197465ea7920adcdbec7375364d82   \n",
      "4  ad21c59c0840e6cb83a9ceb5573f8159  8ab97904e6daea8866dbdbc4fb7aad2c   \n",
      "\n",
      "  order_status order_purchase_timestamp    order_approved_at  \\\n",
      "0    delivered      2017-10-02 10:56:33  2017-10-02 11:07:15   \n",
      "1    delivered      2018-07-24 20:41:37  2018-07-26 03:24:27   \n",
      "2    delivered      2018-08-08 08:38:49  2018-08-08 08:55:23   \n",
      "3    delivered      2017-11-18 19:28:06  2017-11-18 19:45:59   \n",
      "4    delivered      2018-02-13 21:18:39  2018-02-13 22:20:29   \n",
      "\n",
      "  order_delivered_carrier_date order_delivered_customer_date  \\\n",
      "0          2017-10-04 19:55:00           2017-10-10 21:25:13   \n",
      "1          2018-07-26 14:31:00           2018-08-07 15:27:45   \n",
      "2          2018-08-08 13:50:00           2018-08-17 18:06:29   \n",
      "3          2017-11-22 13:39:59           2017-12-02 00:28:42   \n",
      "4          2018-02-14 19:46:34           2018-02-16 18:17:02   \n",
      "\n",
      "  order_estimated_delivery_date  order_item_id  \\\n",
      "0           2017-10-18 00:00:00            1.0   \n",
      "1           2018-08-13 00:00:00            1.0   \n",
      "2           2018-09-04 00:00:00            1.0   \n",
      "3           2017-12-15 00:00:00            1.0   \n",
      "4           2018-02-26 00:00:00            1.0   \n",
      "\n",
      "                         product_id  ...      seller_city seller_state  \\\n",
      "0  87285b34884572647811a353c7ac498a  ...             maua           SP   \n",
      "1  595fac2a385ac33a80bd5114aec74eb8  ...   belo horizonte           SP   \n",
      "2  aa4383b373c6aca5d8797843e5594415  ...          guariba           SP   \n",
      "3  d0b61bfb1de832b15ba9d266ca96e5b0  ...   belo horizonte           MG   \n",
      "4  65266b2da20d04dbe00c5c2d3bb7859e  ...  mogi das cruzes           SP   \n",
      "\n",
      "   product_category_name  product_name_lenght product_description_lenght  \\\n",
      "0  utilidades_domesticas                 40.0                      268.0   \n",
      "1             perfumaria                 29.0                      178.0   \n",
      "2             automotivo                 46.0                      232.0   \n",
      "3               pet_shop                 59.0                      468.0   \n",
      "4              papelaria                 38.0                      316.0   \n",
      "\n",
      "   product_photos_qty product_weight_g product_length_cm  product_height_cm  \\\n",
      "0                 4.0            500.0              19.0                8.0   \n",
      "1                 1.0            400.0              19.0               13.0   \n",
      "2                 1.0            420.0              24.0               19.0   \n",
      "3                 3.0            450.0              30.0               10.0   \n",
      "4                 4.0            250.0              51.0               15.0   \n",
      "\n",
      "  product_width_cm  \n",
      "0             13.0  \n",
      "1             19.0  \n",
      "2             21.0  \n",
      "3             20.0  \n",
      "4             15.0  \n",
      "\n",
      "[5 rows x 29 columns]\n"
     ]
    }
   ],
   "source": [
    "print(df_merged.head()) #After merging displaying first 5 rows"
   ]
  },
  {
   "cell_type": "markdown",
   "id": "b3bb7690",
   "metadata": {},
   "source": [
    "# EDA"
   ]
  },
  {
   "cell_type": "code",
   "execution_count": 24,
   "id": "f178b080",
   "metadata": {},
   "outputs": [],
   "source": [
    "#Overall customer behavior"
   ]
  },
  {
   "cell_type": "code",
   "execution_count": 25,
   "id": "f0f2eeff",
   "metadata": {},
   "outputs": [
    {
     "data": {
      "image/png": "[encoded data removed]",
      "text/plain": [
       "<Figure size 1000x500 with 1 Axes>"
      ]
     },
     "metadata": {},
     "output_type": "display_data"
    }
   ],
   "source": [
    "df_merged['order_purchase_month']=df_merged['order_purchase_timestamp'].dt.month\n",
    "monthly_orders=df_merged.groupby('order_purchase_month')['order_id'].count()\n",
    "\n",
    "plt.figure(figsize=(10, 5))\n",
    "sns.barplot(x=monthly_orders.index,y=monthly_orders.values)\n",
    "plt.xlabel('Month')\n",
    "plt.ylabel('Number of Orders')\n",
    "plt.title('Orders Per Month')\n",
    "plt.show()"
   ]
  },
  {
   "cell_type": "code",
   "execution_count": 26,
   "id": "6666b4f9",
   "metadata": {},
   "outputs": [],
   "source": [
    "#Top-selling product categories"
   ]
  },
  {
   "cell_type": "code",
   "execution_count": 27,
   "id": "4de80c77",
   "metadata": {},
   "outputs": [
    {
     "data": {
      "image/png": "[encoded data removed]",
      "text/plain": [
       "<Figure size 1000x600 with 1 Axes>"
      ]
     },
     "metadata": {},
     "output_type": "display_data"
    }
   ],
   "source": [
    "top_categories=df_merged['product_category_name'].value_counts().head(10)\n",
    "\n",
    "#Set figure size\n",
    "plt.figure(figsize=(10, 6))\n",
    "\n",
    "#Create Bar Chart\n",
    "sns.barplot(x=top_categories.values,y=top_categories.index,palette=\"coolwarm\")\n",
    "\n",
    "#Add title and labels\n",
    "plt.title(\"Top 10 Selling Product Categories\")\n",
    "plt.xlabel(\"Number of Orders\")\n",
    "plt.ylabel(\"Product Category\")\n",
    "\n",
    "#Show plot\n",
    "plt.show()"
   ]
  },
  {
   "cell_type": "code",
   "execution_count": 28,
   "id": "32b48f3b",
   "metadata": {},
   "outputs": [],
   "source": [
    "#Saving the merged file to as a new dataset\n",
    "new_df=df_merged.to_csv(\"C:/Users/Sivagami/Downloads/archive/merged_dataset.csv\",index=False)"
   ]
  },
  {
   "cell_type": "code",
   "execution_count": 29,
   "id": "a947d999",
   "metadata": {},
   "outputs": [],
   "source": [
    "new_df=pd.read_csv(\"C:/Users/Sivagami/Downloads/archive/merged_dataset.csv\")"
   ]
  },
  {
   "cell_type": "code",
   "execution_count": 30,
   "id": "077be0b1",
   "metadata": {},
   "outputs": [
    {
     "data": {
      "text/html": [
       "<div>\n",
       "<style scoped>\n",
       "    .dataframe tbody tr th:only-of-type {\n",
       "        vertical-align: middle;\n",
       "    }\n",
       "\n",
       "    .dataframe tbody tr th {\n",
       "        vertical-align: top;\n",
       "    }\n",
       "\n",
       "    .dataframe thead th {\n",
       "        text-align: right;\n",
       "    }\n",
       "</style>\n",
       "<table border=\"1\" class=\"dataframe\">\n",
       "  <thead>\n",
       "    <tr style=\"text-align: right;\">\n",
       "      <th></th>\n",
       "      <th>order_id</th>\n",
       "      <th>customer_id</th>\n",
       "      <th>order_status</th>\n",
       "      <th>order_purchase_timestamp</th>\n",
       "      <th>order_approved_at</th>\n",
       "      <th>order_delivered_carrier_date</th>\n",
       "      <th>order_delivered_customer_date</th>\n",
       "      <th>order_estimated_delivery_date</th>\n",
       "      <th>order_item_id</th>\n",
       "      <th>product_id</th>\n",
       "      <th>...</th>\n",
       "      <th>seller_state</th>\n",
       "      <th>product_category_name</th>\n",
       "      <th>product_name_lenght</th>\n",
       "      <th>product_description_lenght</th>\n",
       "      <th>product_photos_qty</th>\n",
       "      <th>product_weight_g</th>\n",
       "      <th>product_length_cm</th>\n",
       "      <th>product_height_cm</th>\n",
       "      <th>product_width_cm</th>\n",
       "      <th>order_purchase_month</th>\n",
       "    </tr>\n",
       "  </thead>\n",
       "  <tbody>\n",
       "    <tr>\n",
       "      <th>0</th>\n",
       "      <td>e481f51cbdc54678b7cc49136f2d6af7</td>\n",
       "      <td>9ef432eb6251297304e76186b10a928d</td>\n",
       "      <td>delivered</td>\n",
       "      <td>2017-10-02 10:56:33</td>\n",
       "      <td>2017-10-02 11:07:15</td>\n",
       "      <td>2017-10-04 19:55:00</td>\n",
       "      <td>2017-10-10 21:25:13</td>\n",
       "      <td>2017-10-18 00:00:00</td>\n",
       "      <td>1.0</td>\n",
       "      <td>87285b34884572647811a353c7ac498a</td>\n",
       "      <td>...</td>\n",
       "      <td>SP</td>\n",
       "      <td>utilidades_domesticas</td>\n",
       "      <td>40.0</td>\n",
       "      <td>268.0</td>\n",
       "      <td>4.0</td>\n",
       "      <td>500.0</td>\n",
       "      <td>19.0</td>\n",
       "      <td>8.0</td>\n",
       "      <td>13.0</td>\n",
       "      <td>10</td>\n",
       "    </tr>\n",
       "    <tr>\n",
       "      <th>1</th>\n",
       "      <td>53cdb2fc8bc7dce0b6741e2150273451</td>\n",
       "      <td>b0830fb4747a6c6d20dea0b8c802d7ef</td>\n",
       "      <td>delivered</td>\n",
       "      <td>2018-07-24 20:41:37</td>\n",
       "      <td>2018-07-26 03:24:27</td>\n",
       "      <td>2018-07-26 14:31:00</td>\n",
       "      <td>2018-08-07 15:27:45</td>\n",
       "      <td>2018-08-13 00:00:00</td>\n",
       "      <td>1.0</td>\n",
       "      <td>595fac2a385ac33a80bd5114aec74eb8</td>\n",
       "      <td>...</td>\n",
       "      <td>SP</td>\n",
       "      <td>perfumaria</td>\n",
       "      <td>29.0</td>\n",
       "      <td>178.0</td>\n",
       "      <td>1.0</td>\n",
       "      <td>400.0</td>\n",
       "      <td>19.0</td>\n",
       "      <td>13.0</td>\n",
       "      <td>19.0</td>\n",
       "      <td>7</td>\n",
       "    </tr>\n",
       "    <tr>\n",
       "      <th>2</th>\n",
       "      <td>47770eb9100c2d0c44946d9cf07ec65d</td>\n",
       "      <td>41ce2a54c0b03bf3443c3d931a367089</td>\n",
       "      <td>delivered</td>\n",
       "      <td>2018-08-08 08:38:49</td>\n",
       "      <td>2018-08-08 08:55:23</td>\n",
       "      <td>2018-08-08 13:50:00</td>\n",
       "      <td>2018-08-17 18:06:29</td>\n",
       "      <td>2018-09-04 00:00:00</td>\n",
       "      <td>1.0</td>\n",
       "      <td>aa4383b373c6aca5d8797843e5594415</td>\n",
       "      <td>...</td>\n",
       "      <td>SP</td>\n",
       "      <td>automotivo</td>\n",
       "      <td>46.0</td>\n",
       "      <td>232.0</td>\n",
       "      <td>1.0</td>\n",
       "      <td>420.0</td>\n",
       "      <td>24.0</td>\n",
       "      <td>19.0</td>\n",
       "      <td>21.0</td>\n",
       "      <td>8</td>\n",
       "    </tr>\n",
       "    <tr>\n",
       "      <th>3</th>\n",
       "      <td>949d5b44dbf5de918fe9c16f97b45f8a</td>\n",
       "      <td>f88197465ea7920adcdbec7375364d82</td>\n",
       "      <td>delivered</td>\n",
       "      <td>2017-11-18 19:28:06</td>\n",
       "      <td>2017-11-18 19:45:59</td>\n",
       "      <td>2017-11-22 13:39:59</td>\n",
       "      <td>2017-12-02 00:28:42</td>\n",
       "      <td>2017-12-15 00:00:00</td>\n",
       "      <td>1.0</td>\n",
       "      <td>d0b61bfb1de832b15ba9d266ca96e5b0</td>\n",
       "      <td>...</td>\n",
       "      <td>MG</td>\n",
       "      <td>pet_shop</td>\n",
       "      <td>59.0</td>\n",
       "      <td>468.0</td>\n",
       "      <td>3.0</td>\n",
       "      <td>450.0</td>\n",
       "      <td>30.0</td>\n",
       "      <td>10.0</td>\n",
       "      <td>20.0</td>\n",
       "      <td>11</td>\n",
       "    </tr>\n",
       "    <tr>\n",
       "      <th>4</th>\n",
       "      <td>ad21c59c0840e6cb83a9ceb5573f8159</td>\n",
       "      <td>8ab97904e6daea8866dbdbc4fb7aad2c</td>\n",
       "      <td>delivered</td>\n",
       "      <td>2018-02-13 21:18:39</td>\n",
       "      <td>2018-02-13 22:20:29</td>\n",
       "      <td>2018-02-14 19:46:34</td>\n",
       "      <td>2018-02-16 18:17:02</td>\n",
       "      <td>2018-02-26 00:00:00</td>\n",
       "      <td>1.0</td>\n",
       "      <td>65266b2da20d04dbe00c5c2d3bb7859e</td>\n",
       "      <td>...</td>\n",
       "      <td>SP</td>\n",
       "      <td>papelaria</td>\n",
       "      <td>38.0</td>\n",
       "      <td>316.0</td>\n",
       "      <td>4.0</td>\n",
       "      <td>250.0</td>\n",
       "      <td>51.0</td>\n",
       "      <td>15.0</td>\n",
       "      <td>15.0</td>\n",
       "      <td>2</td>\n",
       "    </tr>\n",
       "  </tbody>\n",
       "</table>\n",
       "<p>5 rows × 30 columns</p>\n",
       "</div>"
      ],
      "text/plain": [
       "                           order_id                       customer_id  \\\n",
       "0  e481f51cbdc54678b7cc49136f2d6af7  9ef432eb6251297304e76186b10a928d   \n",
       "1  53cdb2fc8bc7dce0b6741e2150273451  b0830fb4747a6c6d20dea0b8c802d7ef   \n",
       "2  47770eb9100c2d0c44946d9cf07ec65d  41ce2a54c0b03bf3443c3d931a367089   \n",
       "3  949d5b44dbf5de918fe9c16f97b45f8a  f88197465ea7920adcdbec7375364d82   \n",
       "4  ad21c59c0840e6cb83a9ceb5573f8159  8ab97904e6daea8866dbdbc4fb7aad2c   \n",
       "\n",
       "  order_status order_purchase_timestamp    order_approved_at  \\\n",
       "0    delivered      2017-10-02 10:56:33  2017-10-02 11:07:15   \n",
       "1    delivered      2018-07-24 20:41:37  2018-07-26 03:24:27   \n",
       "2    delivered      2018-08-08 08:38:49  2018-08-08 08:55:23   \n",
       "3    delivered      2017-11-18 19:28:06  2017-11-18 19:45:59   \n",
       "4    delivered      2018-02-13 21:18:39  2018-02-13 22:20:29   \n",
       "\n",
       "  order_delivered_carrier_date order_delivered_customer_date  \\\n",
       "0          2017-10-04 19:55:00           2017-10-10 21:25:13   \n",
       "1          2018-07-26 14:31:00           2018-08-07 15:27:45   \n",
       "2          2018-08-08 13:50:00           2018-08-17 18:06:29   \n",
       "3          2017-11-22 13:39:59           2017-12-02 00:28:42   \n",
       "4          2018-02-14 19:46:34           2018-02-16 18:17:02   \n",
       "\n",
       "  order_estimated_delivery_date  order_item_id  \\\n",
       "0           2017-10-18 00:00:00            1.0   \n",
       "1           2018-08-13 00:00:00            1.0   \n",
       "2           2018-09-04 00:00:00            1.0   \n",
       "3           2017-12-15 00:00:00            1.0   \n",
       "4           2018-02-26 00:00:00            1.0   \n",
       "\n",
       "                         product_id  ... seller_state  product_category_name  \\\n",
       "0  87285b34884572647811a353c7ac498a  ...           SP  utilidades_domesticas   \n",
       "1  595fac2a385ac33a80bd5114aec74eb8  ...           SP             perfumaria   \n",
       "2  aa4383b373c6aca5d8797843e5594415  ...           SP             automotivo   \n",
       "3  d0b61bfb1de832b15ba9d266ca96e5b0  ...           MG               pet_shop   \n",
       "4  65266b2da20d04dbe00c5c2d3bb7859e  ...           SP              papelaria   \n",
       "\n",
       "   product_name_lenght  product_description_lenght product_photos_qty  \\\n",
       "0                 40.0                       268.0                4.0   \n",
       "1                 29.0                       178.0                1.0   \n",
       "2                 46.0                       232.0                1.0   \n",
       "3                 59.0                       468.0                3.0   \n",
       "4                 38.0                       316.0                4.0   \n",
       "\n",
       "   product_weight_g product_length_cm product_height_cm  product_width_cm  \\\n",
       "0             500.0              19.0               8.0              13.0   \n",
       "1             400.0              19.0              13.0              19.0   \n",
       "2             420.0              24.0              19.0              21.0   \n",
       "3             450.0              30.0              10.0              20.0   \n",
       "4             250.0              51.0              15.0              15.0   \n",
       "\n",
       "  order_purchase_month  \n",
       "0                   10  \n",
       "1                    7  \n",
       "2                    8  \n",
       "3                   11  \n",
       "4                    2  \n",
       "\n",
       "[5 rows x 30 columns]"
      ]
     },
     "execution_count": 30,
     "metadata": {},
     "output_type": "execute_result"
    }
   ],
   "source": [
    "new_df.head(5)"
   ]
  },
  {
   "cell_type": "code",
   "execution_count": 31,
   "id": "7614c90c",
   "metadata": {},
   "outputs": [
    {
     "name": "stdout",
     "output_type": "stream",
     "text": [
      "<class 'pandas.core.frame.DataFrame'>\n",
      "RangeIndex: 113425 entries, 0 to 113424\n",
      "Data columns (total 30 columns):\n",
      " #   Column                         Non-Null Count   Dtype  \n",
      "---  ------                         --------------   -----  \n",
      " 0   order_id                       113425 non-null  object \n",
      " 1   customer_id                    113425 non-null  object \n",
      " 2   order_status                   113425 non-null  object \n",
      " 3   order_purchase_timestamp       113425 non-null  object \n",
      " 4   order_approved_at              113425 non-null  object \n",
      " 5   order_delivered_carrier_date   113425 non-null  object \n",
      " 6   order_delivered_customer_date  113425 non-null  object \n",
      " 7   order_estimated_delivery_date  113425 non-null  object \n",
      " 8   order_item_id                  112650 non-null  float64\n",
      " 9   product_id                     112650 non-null  object \n",
      " 10  seller_id                      112650 non-null  object \n",
      " 11  shipping_limit_date            112650 non-null  object \n",
      " 12  price                          112650 non-null  float64\n",
      " 13  freight_value                  112650 non-null  float64\n",
      " 14  customer_unique_id             113425 non-null  object \n",
      " 15  customer_zip_code_prefix       113425 non-null  int64  \n",
      " 16  customer_city                  113425 non-null  object \n",
      " 17  customer_state                 113425 non-null  object \n",
      " 18  seller_zip_code_prefix         112650 non-null  float64\n",
      " 19  seller_city                    112650 non-null  object \n",
      " 20  seller_state                   112650 non-null  object \n",
      " 21  product_category_name          111047 non-null  object \n",
      " 22  product_name_lenght            111047 non-null  float64\n",
      " 23  product_description_lenght     111047 non-null  float64\n",
      " 24  product_photos_qty             111047 non-null  float64\n",
      " 25  product_weight_g               112632 non-null  float64\n",
      " 26  product_length_cm              112632 non-null  float64\n",
      " 27  product_height_cm              112632 non-null  float64\n",
      " 28  product_width_cm               112632 non-null  float64\n",
      " 29  order_purchase_month           113425 non-null  int64  \n",
      "dtypes: float64(11), int64(2), object(17)\n",
      "memory usage: 26.0+ MB\n",
      "None\n"
     ]
    }
   ],
   "source": [
    "print(new_df.info())  #checking the datatype after conversion"
   ]
  },
  {
   "cell_type": "markdown",
   "id": "4934b474",
   "metadata": {},
   "source": [
    "# Understanding Anomalies"
   ]
  },
  {
   "cell_type": "markdown",
   "id": "97e054db",
   "metadata": {},
   "source": [
    "Anomalies are unusual patterns in data \n",
    "Examples:\n",
    "✔️ Extremely high/low order values\n",
    "✔️ Orders with negative delivery times"
   ]
  },
  {
   "cell_type": "code",
   "execution_count": 161,
   "id": "f89869e2",
   "metadata": {},
   "outputs": [],
   "source": [
    "#Check Negative or Very Large Delivery Times"
   ]
  },
  {
   "cell_type": "code",
   "execution_count": 32,
   "id": "4467e2b2",
   "metadata": {},
   "outputs": [],
   "source": [
    "#Replacing the \"unknown\" with a default time\n",
    "new_df[\"order_purchase_timestamp\"]=new_df[\"order_purchase_timestamp\"].replace(\"Unknown\",\"2000-01-01 00:00:00\")\n",
    "new_df[\"order_purchase_timestamp\"]=pd.to_datetime(new_df[\"order_purchase_timestamp\"])\n",
    "\n",
    "new_df[\"order_delivered_customer_date\"]=new_df[\"order_delivered_customer_date\"].replace(\"Unknown\",\"2000-01-01 00:00:00\")\n",
    "new_df[\"order_delivered_customer_date\"]=pd.to_datetime(new_df[\"order_delivered_customer_date\"])\n"
   ]
  },
  {
   "cell_type": "code",
   "execution_count": 33,
   "id": "59c1dce8",
   "metadata": {},
   "outputs": [
    {
     "data": {
      "image/png": "[encoded data removed]",
      "text/plain": [
       "<Figure size 800x500 with 1 Axes>"
      ]
     },
     "metadata": {},
     "output_type": "display_data"
    }
   ],
   "source": [
    "#Calculate delivery time in days\n",
    "new_df[\"delivery_days\"]=(new_df[\"order_delivered_customer_date\"]-new_df[\"order_purchase_timestamp\"]).dt.days\n",
    "\n",
    "#Set figure size\n",
    "plt.figure(figsize=(8, 5))\n",
    "\n",
    "#Boxplot for delivery days\n",
    "sns.boxplot(x=new_df[\"delivery_days\"])\n",
    "\n",
    "# Show plot\n",
    "plt.title(\"Delivery Time Distribution (Boxplot)\")\n",
    "plt.show()\n"
   ]
  },
  {
   "cell_type": "code",
   "execution_count": 34,
   "id": "7a48fbb2",
   "metadata": {},
   "outputs": [
    {
     "name": "stdout",
     "output_type": "stream",
     "text": [
      "                                order_id                       customer_id  \\\n",
      "6       136cce7faa42fdb2cefd53fdc79a6098  ed0271e0b7da060a393796590e7b737a   \n",
      "46      ee64d42b8cf066f35eac1cf57de1aa85  caded193e8e47b8362864762a83db3c5   \n",
      "118     0760a852e4e9d89eb77bf631eaaf1c84  d2a79636084590b7465af8ab374a8cf5   \n",
      "148     15bed8e2fec7fdbadb186b57c46c92f2  f3f0e613e0bdb9c7cee75504f0f90679   \n",
      "185     6942b8da583c2f9957e990d028607019  52006a9383bf149a4fb24226b173106f   \n",
      "...                                  ...                               ...   \n",
      "113236  3a3cddda5a7c27851bd96c3313412840  0b0d6095c5555fe083844281f6b093bb   \n",
      "113284  e9e64a17afa9653aacf2616d94c005b8  b4cd0522e632e481f8eaf766a2646e86   \n",
      "113324  a89abace0dcc01eeb267a9660b5ac126  2f0524a7b1b3845a1a57fcf3910c4333   \n",
      "113325  a69ba794cc7deb415c3e15a0a3877e69  726f0894b5becdf952ea537d5266e543   \n",
      "113397  5fabc81b6322c8443648e1b21a6fef21  32c9df889d41b0ee8309a5efb6855dcb   \n",
      "\n",
      "       order_status order_purchase_timestamp    order_approved_at  \\\n",
      "6          invoiced      2017-04-11 12:22:08  2017-04-13 13:25:17   \n",
      "46          shipped      2018-06-04 16:44:48  2018-06-05 04:31:18   \n",
      "118        invoiced      2018-08-03 17:44:42  2018-08-07 06:15:14   \n",
      "148      processing      2017-09-03 14:22:03  2017-09-03 14:30:09   \n",
      "185         shipped      2018-01-10 11:33:07  2018-01-11 02:32:30   \n",
      "...             ...                      ...                  ...   \n",
      "113236     canceled      2018-08-31 16:13:44              Unknown   \n",
      "113284   processing      2018-01-05 23:07:24  2018-01-09 07:18:05   \n",
      "113324     canceled      2018-09-06 18:45:47              Unknown   \n",
      "113325  unavailable      2017-08-23 16:28:04  2017-08-28 15:44:47   \n",
      "113397  unavailable      2017-10-10 10:50:03  2017-10-14 18:35:57   \n",
      "\n",
      "       order_delivered_carrier_date order_delivered_customer_date  \\\n",
      "6                           Unknown                    2000-01-01   \n",
      "46              2018-06-05 14:32:00                    2000-01-01   \n",
      "118                         Unknown                    2000-01-01   \n",
      "148                         Unknown                    2000-01-01   \n",
      "185             2018-01-11 19:39:23                    2000-01-01   \n",
      "...                             ...                           ...   \n",
      "113236                      Unknown                    2000-01-01   \n",
      "113284                      Unknown                    2000-01-01   \n",
      "113324                      Unknown                    2000-01-01   \n",
      "113325                      Unknown                    2000-01-01   \n",
      "113397                      Unknown                    2000-01-01   \n",
      "\n",
      "       order_estimated_delivery_date  order_item_id  \\\n",
      "6                2017-05-09 00:00:00            1.0   \n",
      "46               2018-06-28 00:00:00            1.0   \n",
      "118              2018-08-21 00:00:00            1.0   \n",
      "148              2017-10-03 00:00:00            1.0   \n",
      "185              2018-02-07 00:00:00            1.0   \n",
      "...                              ...            ...   \n",
      "113236           2018-10-01 00:00:00            NaN   \n",
      "113284           2018-02-06 00:00:00            1.0   \n",
      "113324           2018-09-27 00:00:00            NaN   \n",
      "113325           2017-09-15 00:00:00            NaN   \n",
      "113397           2017-10-23 00:00:00            NaN   \n",
      "\n",
      "                              product_id  ... product_category_name  \\\n",
      "6       a1804276d9941ac0733cfd409f5206eb  ...                   NaN   \n",
      "46      c50ca07e9e4db9ea5011f06802c0aea0  ...          beleza_saude   \n",
      "118     1522589c64efd46731d3522568e5bc83  ...      artigos_de_natal   \n",
      "148     61d52f4882421048afd530db53d6f230  ...            perfumaria   \n",
      "185     ee0c1cf2fbeae95205b4aa506f1469f0  ...            perfumaria   \n",
      "...                                  ...  ...                   ...   \n",
      "113236                               NaN  ...                   NaN   \n",
      "113284  0a57f7d2c983bcf8188589a5fea4a8da  ...    relogios_presentes   \n",
      "113324                               NaN  ...                   NaN   \n",
      "113325                               NaN  ...                   NaN   \n",
      "113397                               NaN  ...                   NaN   \n",
      "\n",
      "       product_name_lenght  product_description_lenght  product_photos_qty  \\\n",
      "6                      NaN                         NaN                 NaN   \n",
      "46                    59.0                      1782.0                 1.0   \n",
      "118                   35.0                       415.0                 4.0   \n",
      "148                   59.0                       149.0                 1.0   \n",
      "185                   44.0                       334.0                 1.0   \n",
      "...                    ...                         ...                 ...   \n",
      "113236                 NaN                         NaN                 NaN   \n",
      "113284                33.0                       932.0                 1.0   \n",
      "113324                 NaN                         NaN                 NaN   \n",
      "113325                 NaN                         NaN                 NaN   \n",
      "113397                 NaN                         NaN                 NaN   \n",
      "\n",
      "       product_weight_g  product_length_cm product_height_cm product_width_cm  \\\n",
      "6                 600.0               35.0              35.0             15.0   \n",
      "46                125.0               25.0              14.0             18.0   \n",
      "118               550.0               37.0              10.0             37.0   \n",
      "148               500.0               36.0              18.0             27.0   \n",
      "185               200.0               16.0              16.0             13.0   \n",
      "...                 ...                ...               ...              ...   \n",
      "113236              NaN                NaN               NaN              NaN   \n",
      "113284            396.0               18.0              11.0             14.0   \n",
      "113324              NaN                NaN               NaN              NaN   \n",
      "113325              NaN                NaN               NaN              NaN   \n",
      "113397              NaN                NaN               NaN              NaN   \n",
      "\n",
      "        order_purchase_month delivery_days  \n",
      "6                          4         -6311  \n",
      "46                         6         -6730  \n",
      "118                        8         -6790  \n",
      "148                        9         -6456  \n",
      "185                        1         -6585  \n",
      "...                      ...           ...  \n",
      "113236                     8         -6818  \n",
      "113284                     1         -6580  \n",
      "113324                     9         -6824  \n",
      "113325                     8         -6445  \n",
      "113397                    10         -6493  \n",
      "\n",
      "[3540 rows x 31 columns]\n"
     ]
    }
   ],
   "source": [
    "#Find negative or extreme values\n",
    "anomalies=new_df[(new_df[\"delivery_days\"]<0)|(new_df[\"delivery_days\"]>60)]\n",
    "print(anomalies)"
   ]
  },
  {
   "cell_type": "code",
   "execution_count": 35,
   "id": "1948be06",
   "metadata": {},
   "outputs": [
    {
     "data": {
      "image/png": "[encoded data removed]",
      "text/plain": [
       "<Figure size 800x500 with 1 Axes>"
      ]
     },
     "metadata": {},
     "output_type": "display_data"
    }
   ],
   "source": [
    "#Check Orders with Extremely High or Low Values\n",
    "#Boxplot to visualize anomalies\n",
    "plt.figure(figsize=(8,5))\n",
    "new_df[\"price\"].plot(kind=\"box\", vert=False)\n",
    "plt.title(\"Order Price Distribution\")\n",
    "plt.show()"
   ]
  },
  {
   "cell_type": "code",
   "execution_count": 36,
   "id": "56a7d2ac",
   "metadata": {},
   "outputs": [
    {
     "name": "stdout",
     "output_type": "stream",
     "text": [
      "                                order_id                       customer_id  \\\n",
      "17      403b97836b0c04a622354cf531062e5f  738b086814c6fcc74b8cc583f8516ee3   \n",
      "377     2b72a32a2c3e93fa260ca7655073886f  5265029daa29cc08d86b9f96cd99d03f   \n",
      "388     ac64f79a33bfa575fc5a17e7926df3d5  51a8d592336a414fea21f12534b0f797   \n",
      "392     6cb134bb285a64b0425d1fdaa00d4214  d854800a320bbb07b484f76894e4638f   \n",
      "460     da8be3bb62e9bf01e2e1a3bfd74ebd1a  3f083b9f62e687be8d84684c7d54c8db   \n",
      "...                                  ...                               ...   \n",
      "112943  25a93076658202368073fb3697a3f4ef  1a0fba6c64f792517a1f8d8c88b8bbab   \n",
      "113005  4f2a29346d25613d2e553a8d6381b006  3043e244f2c35c95554a613c30a7a332   \n",
      "113007  f3d113574c163b8642fb44302c8fe0c9  7ca7b6bb5ab0b1ac2529e5c489cf3592   \n",
      "113100  bfb1d0f7664c36a532d74c4cf0da37af  811e55e5f48c8f37832963ff509ce85b   \n",
      "113334  2ff4dba9b7e65ee15034ed2b0004048d  f3721694bcec86501e4a19cf459d3b28   \n",
      "\n",
      "       order_status order_purchase_timestamp    order_approved_at  \\\n",
      "17        delivered      2018-01-02 19:00:43  2018-01-02 19:09:04   \n",
      "377       delivered      2018-04-18 15:40:36  2018-04-19 08:15:16   \n",
      "388       delivered      2018-04-01 18:27:01  2018-04-02 17:55:24   \n",
      "392       delivered      2018-07-01 20:54:21  2018-07-02 20:50:21   \n",
      "460       delivered      2017-04-06 13:44:08  2017-04-06 13:55:17   \n",
      "...             ...                      ...                  ...   \n",
      "112943    delivered      2018-05-06 23:32:46  2018-05-08 19:52:59   \n",
      "113005    delivered      2018-03-15 23:18:16  2018-03-15 23:28:29   \n",
      "113007    delivered      2017-06-23 21:50:23  2017-06-27 04:03:14   \n",
      "113100    delivered      2017-08-31 15:05:50  2017-09-01 17:25:22   \n",
      "113334    delivered      2018-05-23 18:35:24  2018-05-23 18:57:12   \n",
      "\n",
      "       order_delivered_carrier_date order_delivered_customer_date  \\\n",
      "17              2018-01-03 18:19:09           2018-01-20 01:38:59   \n",
      "377             2018-04-25 13:34:00           2018-05-03 13:03:03   \n",
      "388             2018-04-03 18:25:51           2018-04-04 19:47:44   \n",
      "392             2018-07-03 10:48:00           2018-07-10 22:12:13   \n",
      "460             2017-04-08 01:37:04           2017-05-08 10:52:06   \n",
      "...                             ...                           ...   \n",
      "112943          2018-05-10 14:19:00           2018-05-14 18:52:05   \n",
      "113005          2018-03-16 19:28:48           2018-04-20 11:12:30   \n",
      "113007          2017-07-07 19:25:30           2017-07-13 18:23:47   \n",
      "113100          2017-09-04 21:21:34           2017-09-11 20:45:01   \n",
      "113334          2018-05-28 13:54:00           2018-06-08 13:38:45   \n",
      "\n",
      "       order_estimated_delivery_date  order_item_id  \\\n",
      "17               2018-02-06 00:00:00            1.0   \n",
      "377              2018-05-18 00:00:00            1.0   \n",
      "388              2018-04-12 00:00:00            1.0   \n",
      "392              2018-07-26 00:00:00            1.0   \n",
      "460              2017-05-04 00:00:00            1.0   \n",
      "...                              ...            ...   \n",
      "112943           2018-05-22 00:00:00            1.0   \n",
      "113005           2018-04-10 00:00:00            1.0   \n",
      "113007           2017-07-24 00:00:00            1.0   \n",
      "113100           2017-09-22 00:00:00            1.0   \n",
      "113334           2018-06-28 00:00:00            1.0   \n",
      "\n",
      "                              product_id  ...  \\\n",
      "17      638bbb2a5e4f360b71f332ddfebfd672  ...   \n",
      "377     cc3181a81384b6fc34602d49cb6068a6  ...   \n",
      "388     bd9fca6bf4bdcbf4094d7bc11415dfe5  ...   \n",
      "392     463cdd8acfe23847f35e29076df0bbbd  ...   \n",
      "460     cea7edf64d9e93fbf6b89cc3ba537cd9  ...   \n",
      "...                                  ...  ...   \n",
      "112943  c1e8014cae93306629b1de89dfa5a1bb  ...   \n",
      "113005  25c38557cf793876c5abdd5931f922db  ...   \n",
      "113007  9fa7e05ae5cddeb74ff2fe5046b742db  ...   \n",
      "113100  9aedf557945e816d48539ee56293f860  ...   \n",
      "113334  6b0894fbd8143c541f3c40622d8a9603  ...   \n",
      "\n",
      "                    product_category_name product_name_lenght  \\\n",
      "17      construcao_ferramentas_construcao                38.0   \n",
      "377                    eletrodomesticos_2                33.0   \n",
      "388                       eletroportateis                47.0   \n",
      "392                    relogios_presentes                40.0   \n",
      "460                    ferramentas_jardim                57.0   \n",
      "...                                   ...                 ...   \n",
      "112943                 relogios_presentes                39.0   \n",
      "113005                              bebes                58.0   \n",
      "113007                       beleza_saude                55.0   \n",
      "113100                                pcs                55.0   \n",
      "113334                 ferramentas_jardim                60.0   \n",
      "\n",
      "        product_description_lenght  product_photos_qty product_weight_g  \\\n",
      "17                           143.0                 2.0          20850.0   \n",
      "377                           94.0                 1.0          18450.0   \n",
      "388                         2378.0                 6.0           4683.0   \n",
      "392                          153.0                 3.0            550.0   \n",
      "460                          492.0                 1.0          25000.0   \n",
      "...                            ...                 ...              ...   \n",
      "112943                       515.0                 3.0            886.0   \n",
      "113005                      1447.0                 5.0          15800.0   \n",
      "113007                       449.0                 1.0          30000.0   \n",
      "113100                      3610.0                 4.0           2400.0   \n",
      "113334                      3088.0                 6.0           1200.0   \n",
      "\n",
      "        product_length_cm product_height_cm product_width_cm  \\\n",
      "17                  100.0              25.0             50.0   \n",
      "377                  68.0              21.0             42.0   \n",
      "388                  45.0              29.0             22.0   \n",
      "392                  16.0              16.0             11.0   \n",
      "460                  40.0              40.0             40.0   \n",
      "...                   ...               ...              ...   \n",
      "112943               19.0              15.0             17.0   \n",
      "113005               38.0              62.0             57.0   \n",
      "113007               55.0              75.0             61.0   \n",
      "113100               16.0              31.0             39.0   \n",
      "113334               34.0               7.0             22.0   \n",
      "\n",
      "        order_purchase_month delivery_days  \n",
      "17                         1            17  \n",
      "377                        4            14  \n",
      "388                        4             3  \n",
      "392                        7             9  \n",
      "460                        4            31  \n",
      "...                      ...           ...  \n",
      "112943                     5             7  \n",
      "113005                     3            35  \n",
      "113007                     6            19  \n",
      "113100                     8            11  \n",
      "113334                     5            15  \n",
      "\n",
      "[1117 rows x 31 columns]\n"
     ]
    }
   ],
   "source": [
    "#Find high-value outliers (above 99th percentile)\n",
    "upper_limit=new_df[\"price\"].quantile(0.99)\n",
    "anomalies=new_df[new_df[\"price\"]>upper_limit]\n",
    "print(anomalies)"
   ]
  },
  {
   "cell_type": "code",
   "execution_count": null,
   "id": "659dd7af",
   "metadata": {},
   "outputs": [],
   "source": []
  },
  {
   "cell_type": "code",
   "execution_count": null,
   "id": "f3d23929",
   "metadata": {},
   "outputs": [],
   "source": []
  }
 ],
 "metadata": {
  "kernelspec": {
   "display_name": "Python 3 (ipykernel)",
   "language": "python",
   "name": "python3"
  },
  "language_info": {
   "codemirror_mode": {
    "name": "ipython",
    "version": 3
   },
   "file_extension": ".py",
   "mimetype": "text/x-python",
   "name": "python",
   "nbconvert_exporter": "python",
   "pygments_lexer": "ipython3",
   "version": "3.11.5"
  }
 },
 "nbformat": 4,
 "nbformat_minor": 5
}
